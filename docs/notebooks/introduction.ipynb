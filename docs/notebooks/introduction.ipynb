{
 "cells": [
  {
   "cell_type": "code",
   "execution_count": 3,
   "id": "91859cba-0ba2-4bbc-8487-1222c4fce06e",
   "metadata": {},
   "outputs": [
    {
     "name": "stdout",
     "output_type": "stream",
     "text": [
      "1000.0\n",
      "8.0\n",
      "1.0\n",
      "0.7071067811865475\n"
     ]
    }
   ],
   "source": [
    "from scipy import special\n",
    "a = special.exp10(3)\n",
    "print(a)\n",
    " \n",
    "b = special.exp2(3)\n",
    "print(b)\n",
    " \n",
    "c = special.sindg(90)\n",
    "print(c)\n",
    " \n",
    "d = special.cosdg(45)\n",
    "print(d)"
   ]
  },
  {
   "cell_type": "code",
   "execution_count": null,
   "id": "55613a3e-5c5e-494d-8cb6-3f96c8cca7c2",
   "metadata": {},
   "outputs": [],
   "source": []
  }
 ],
 "metadata": {
  "kernelspec": {
   "display_name": "Python 3 (ipykernel)",
   "language": "python",
   "name": "python3"
  },
  "language_info": {
   "codemirror_mode": {
    "name": "ipython",
    "version": 3
   },
   "file_extension": ".py",
   "mimetype": "text/x-python",
   "name": "python",
   "nbconvert_exporter": "python",
   "pygments_lexer": "ipython3",
   "version": "3.12.4"
  }
 },
 "nbformat": 4,
 "nbformat_minor": 5
}
