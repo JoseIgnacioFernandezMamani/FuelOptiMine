{
 "cells": [
  {
   "cell_type": "markdown",
   "id": "dfbc9b4b-1a12-4178-ba66-c7ad85abfdc3",
   "metadata": {},
   "source": [
    "# Plotly "
   ]
  },
  {
   "cell_type": "markdown",
   "id": "0c1a0f51-dc47-4977-8511-25b8beddf0f1",
   "metadata": {},
   "source": [
    "Python data visualization library that allows you to create interactive graphs"
   ]
  },
  {
   "cell_type": "markdown",
   "id": "58025f5e-589f-4599-8219-9d5714db2bd1",
   "metadata": {},
   "source": []
  }
 ],
 "metadata": {
  "kernelspec": {
   "display_name": "Python 3 (ipykernel)",
   "language": "python",
   "name": "python3"
  },
  "language_info": {
   "codemirror_mode": {
    "name": "ipython",
    "version": 3
   },
   "file_extension": ".py",
   "mimetype": "text/x-python",
   "name": "python",
   "nbconvert_exporter": "python",
   "pygments_lexer": "ipython3",
   "version": "3.12.4"
  }
 },
 "nbformat": 4,
 "nbformat_minor": 5
}
